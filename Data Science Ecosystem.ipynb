{
 "cells": [
  {
   "cell_type": "markdown",
   "id": "07e36bf9-7d0a-4932-8c0a-74eb3c4c0792",
   "metadata": {},
   "source": [
    "# Data Science Tools and Ecosystem"
   ]
  },
  {
   "cell_type": "markdown",
   "id": "077caebd-4142-493b-ba16-b2ea2927986b",
   "metadata": {},
   "source": [
    "## Introduction\n",
    "Welcome to my final project for the Data Science Tools course. This notebook summarizes key concepts, tools, and code exercises using JupyterLite."
   ]
  },
  {
   "cell_type": "markdown",
   "id": "63206da8-18ff-4397-95b9-67c244bbc3e3",
   "metadata": {},
   "source": [
    "**Objectives**\n",
    "- Identify commonly used data science tools such as Jupyter, RStudio, and Watson Studio.\n",
    "- Understand the role of various programming languageslike Python, R, and SQL in data science.\n",
    "- Work with Jupyter Notebooks and JupyterLite to write and run code interactively.\n",
    "- Use Markdown syntax to create formatted text, lists, tables, and headings within a notebook.\n",
    "- Export and share notebooks using GitHub or PDF for collaboration and submission.\n"
   ]
  },
  {
   "cell_type": "markdown",
   "id": "e8e65cde-5eb9-4d94-a056-4feca291bc8d",
   "metadata": {},
   "source": [
    "# Common Data Science Languages\n",
    "Some of the most commonly used languages of data science are-\n",
    "1. Python\n",
    "2. R\n",
    "3. SQL\n",
    "4. Julia\n",
    "5. Scala\n",
    "6. Java"
   ]
  },
  {
   "cell_type": "markdown",
   "id": "2bcabb49-72de-4492-8603-8273aca68bfb",
   "metadata": {},
   "source": [
    "## Popular Data Science Libraries\n",
    "Some of the most commonly used libraries of data science are-\n",
    "\n",
    "1. pandas\n",
    "2. NumPy\n",
    "3. matplotlib\n",
    "4. scikit-learn\n",
    "5. TensorFlow\n",
    "6. ggplot2"
   ]
  },
  {
   "cell_type": "markdown",
   "id": "99123cc4-89a2-43f2-9c04-675d21c364d2",
   "metadata": {},
   "source": [
    "## Table: Data Science Tools\n",
    "| Data Science Tools | \n",
    "|-------------------------|\n",
    "| Jupyter                 |\n",
    "| RStudio                 | \n",
    "| Apache Spark            | \n",
    "| TensorFlow              | \n",
    "| Tableau                 |\n"
   ]
  },
  {
   "cell_type": "markdown",
   "id": "18a5d4c7-514c-4ddc-bde8-42871be66511",
   "metadata": {},
   "source": [
    "## Arithmetic Expression Examples\n",
    "Some basic expressions in Python:\n",
    "\n",
    "###  3 + 4 → Addition\n",
    "### 8 * 2 → Multiplication\n",
    "### 10 / 5 → Division\n",
    "### 7 - 2 → Subtraction"
   ]
  },
  {
   "cell_type": "code",
   "execution_count": 58,
   "id": "6314e869-4c32-4f0e-b3b9-8de2bffd080e",
   "metadata": {},
   "outputs": [
    {
     "name": "stdout",
     "output_type": "stream",
     "text": [
      "x: 12\n",
      "result: 17\n"
     ]
    }
   ],
   "source": [
    "# Multiply two numbers\n",
    "a = 3\n",
    "b = 4\n",
    "x = a * b\n",
    "print(\"x:\", x)\n",
    "# Add two numbers\n",
    "y = 5\n",
    "result = x + y\n",
    "print(\"result:\", result)\n",
    "# This is a simple arithmetic operation"
   ]
  },
  {
   "cell_type": "code",
   "execution_count": 65,
   "id": "e40c4b24-b6f3-4200-8219-5b610b1a394d",
   "metadata": {},
   "outputs": [
    {
     "name": "stdout",
     "output_type": "stream",
     "text": [
      "Number of hours: 3.3333333333333335\n"
     ]
    }
   ],
   "source": [
    "#Convert minutes to hours: This will convert 200 minutes to hours by dividing by 60\n",
    "minute = 200\n",
    "hour_unit = 60\n",
    "Number_of_hours = minute/hour_unit\n",
    "print(\"Number of hours:\",Number_of_hours)"
   ]
  },
  {
   "cell_type": "markdown",
   "id": "fc739376-7f00-43a7-9134-dcbd05bdc37b",
   "metadata": {},
   "source": [
    "## Author ##\n",
    "Jannatul Nayeem"
   ]
  }
 ],
 "metadata": {
  "kernelspec": {
   "display_name": "Python [conda env:base] *",
   "language": "python",
   "name": "conda-base-py"
  },
  "language_info": {
   "codemirror_mode": {
    "name": "ipython",
    "version": 3
   },
   "file_extension": ".py",
   "mimetype": "text/x-python",
   "name": "python",
   "nbconvert_exporter": "python",
   "pygments_lexer": "ipython3",
   "version": "3.12.7"
  }
 },
 "nbformat": 4,
 "nbformat_minor": 5
}
